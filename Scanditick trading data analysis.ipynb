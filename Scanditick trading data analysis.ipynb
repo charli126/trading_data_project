{
 "cells": [
  {
   "cell_type": "code",
   "execution_count": 4,
   "metadata": {},
   "outputs": [],
   "source": [
    "import pandas as pd"
   ]
  },
  {
   "cell_type": "markdown",
   "metadata": {},
   "source": [
    "**Data has no heading, so we need to give names to the columns**"
   ]
  },
  {
   "cell_type": "code",
   "execution_count": 5,
   "metadata": {},
   "outputs": [],
   "source": [
    "columns = ['stock_identifier', 'col_2', 'bid_price', 'ask_price', \n",
    "           'trade_price', 'bid_volume', 'ask_volume', 'trade_volume', \n",
    "           'update_type', 'col_10', 'date','time_seconds', 'open_price', \n",
    "           'col_14', 'condition_codes_1', 'condition_codes_2']"
   ]
  },
  {
   "cell_type": "markdown",
   "metadata": {},
   "source": [
    "**As this is an extremely large file, it will be imported in chunks**"
   ]
  },
  {
   "cell_type": "code",
   "execution_count": 6,
   "metadata": {},
   "outputs": [],
   "source": [
    "scanditick = pd.read_csv(\"/Users/xiac/Documents/Yandex/scandi_trading_project/scandi.csv\", \n",
    "                         names = columns, chunksize = 50000)"
   ]
  },
  {
   "cell_type": "markdown",
   "metadata": {},
   "source": [
    "**Concat the chunks to make one complete dataframe**"
   ]
  },
  {
   "cell_type": "code",
   "execution_count": 7,
   "metadata": {},
   "outputs": [],
   "source": [
    "scandi = pd.concat(scanditick, ignore_index = True)"
   ]
  },
  {
   "cell_type": "code",
   "execution_count": 8,
   "metadata": {},
   "outputs": [
    {
     "data": {
      "text/html": [
       "<div>\n",
       "<style scoped>\n",
       "    .dataframe tbody tr th:only-of-type {\n",
       "        vertical-align: middle;\n",
       "    }\n",
       "\n",
       "    .dataframe tbody tr th {\n",
       "        vertical-align: top;\n",
       "    }\n",
       "\n",
       "    .dataframe thead th {\n",
       "        text-align: right;\n",
       "    }\n",
       "</style>\n",
       "<table border=\"1\" class=\"dataframe\">\n",
       "  <thead>\n",
       "    <tr style=\"text-align: right;\">\n",
       "      <th></th>\n",
       "      <th>stock_identifier</th>\n",
       "      <th>col_2</th>\n",
       "      <th>bid_price</th>\n",
       "      <th>ask_price</th>\n",
       "      <th>trade_price</th>\n",
       "      <th>bid_volume</th>\n",
       "      <th>ask_volume</th>\n",
       "      <th>trade_volume</th>\n",
       "      <th>update_type</th>\n",
       "      <th>col_10</th>\n",
       "      <th>date</th>\n",
       "      <th>time_seconds</th>\n",
       "      <th>open_price</th>\n",
       "      <th>col_14</th>\n",
       "      <th>condition_codes_1</th>\n",
       "      <th>condition_codes_2</th>\n",
       "    </tr>\n",
       "  </thead>\n",
       "  <tbody>\n",
       "    <tr>\n",
       "      <th>0</th>\n",
       "      <td>BBHBEAT Index</td>\n",
       "      <td>59</td>\n",
       "      <td>121.4</td>\n",
       "      <td>125.4</td>\n",
       "      <td>123.4</td>\n",
       "      <td>1234</td>\n",
       "      <td>1234</td>\n",
       "      <td>1234</td>\n",
       "      <td>2</td>\n",
       "      <td>0</td>\n",
       "      <td>20150420</td>\n",
       "      <td>28264.0</td>\n",
       "      <td>0.0</td>\n",
       "      <td>0</td>\n",
       "      <td>@1</td>\n",
       "      <td>NaN</td>\n",
       "    </tr>\n",
       "    <tr>\n",
       "      <th>1</th>\n",
       "      <td>BBHBEAT Index</td>\n",
       "      <td>60</td>\n",
       "      <td>121.4</td>\n",
       "      <td>125.4</td>\n",
       "      <td>123.4</td>\n",
       "      <td>1234</td>\n",
       "      <td>1234</td>\n",
       "      <td>1234</td>\n",
       "      <td>2</td>\n",
       "      <td>0</td>\n",
       "      <td>20150420</td>\n",
       "      <td>28265.0</td>\n",
       "      <td>0.0</td>\n",
       "      <td>0</td>\n",
       "      <td>@1</td>\n",
       "      <td>NaN</td>\n",
       "    </tr>\n",
       "    <tr>\n",
       "      <th>2</th>\n",
       "      <td>BBHBEAT Index</td>\n",
       "      <td>61</td>\n",
       "      <td>121.4</td>\n",
       "      <td>125.4</td>\n",
       "      <td>123.4</td>\n",
       "      <td>1234</td>\n",
       "      <td>1234</td>\n",
       "      <td>1234</td>\n",
       "      <td>2</td>\n",
       "      <td>0</td>\n",
       "      <td>20150420</td>\n",
       "      <td>28266.0</td>\n",
       "      <td>0.0</td>\n",
       "      <td>0</td>\n",
       "      <td>@1</td>\n",
       "      <td>NaN</td>\n",
       "    </tr>\n",
       "    <tr>\n",
       "      <th>3</th>\n",
       "      <td>BBHBEAT Index</td>\n",
       "      <td>62</td>\n",
       "      <td>121.4</td>\n",
       "      <td>125.4</td>\n",
       "      <td>123.4</td>\n",
       "      <td>1234</td>\n",
       "      <td>1234</td>\n",
       "      <td>1234</td>\n",
       "      <td>2</td>\n",
       "      <td>0</td>\n",
       "      <td>20150420</td>\n",
       "      <td>28267.0</td>\n",
       "      <td>0.0</td>\n",
       "      <td>0</td>\n",
       "      <td>@1</td>\n",
       "      <td>NaN</td>\n",
       "    </tr>\n",
       "    <tr>\n",
       "      <th>4</th>\n",
       "      <td>BBHBEAT Index</td>\n",
       "      <td>63</td>\n",
       "      <td>121.4</td>\n",
       "      <td>125.4</td>\n",
       "      <td>123.4</td>\n",
       "      <td>1234</td>\n",
       "      <td>1234</td>\n",
       "      <td>1234</td>\n",
       "      <td>2</td>\n",
       "      <td>0</td>\n",
       "      <td>20150420</td>\n",
       "      <td>28268.0</td>\n",
       "      <td>0.0</td>\n",
       "      <td>0</td>\n",
       "      <td>@1</td>\n",
       "      <td>NaN</td>\n",
       "    </tr>\n",
       "  </tbody>\n",
       "</table>\n",
       "</div>"
      ],
      "text/plain": [
       "  stock_identifier  col_2  bid_price  ask_price  trade_price  bid_volume  \\\n",
       "0    BBHBEAT Index     59      121.4      125.4        123.4        1234   \n",
       "1    BBHBEAT Index     60      121.4      125.4        123.4        1234   \n",
       "2    BBHBEAT Index     61      121.4      125.4        123.4        1234   \n",
       "3    BBHBEAT Index     62      121.4      125.4        123.4        1234   \n",
       "4    BBHBEAT Index     63      121.4      125.4        123.4        1234   \n",
       "\n",
       "   ask_volume  trade_volume  update_type  col_10      date  time_seconds  \\\n",
       "0        1234          1234            2       0  20150420       28264.0   \n",
       "1        1234          1234            2       0  20150420       28265.0   \n",
       "2        1234          1234            2       0  20150420       28266.0   \n",
       "3        1234          1234            2       0  20150420       28267.0   \n",
       "4        1234          1234            2       0  20150420       28268.0   \n",
       "\n",
       "   open_price  col_14 condition_codes_1 condition_codes_2  \n",
       "0         0.0       0                @1               NaN  \n",
       "1         0.0       0                @1               NaN  \n",
       "2         0.0       0                @1               NaN  \n",
       "3         0.0       0                @1               NaN  \n",
       "4         0.0       0                @1               NaN  "
      ]
     },
     "execution_count": 8,
     "metadata": {},
     "output_type": "execute_result"
    }
   ],
   "source": [
    "scandi.head(5)"
   ]
  },
  {
   "cell_type": "code",
   "execution_count": 9,
   "metadata": {},
   "outputs": [
    {
     "name": "stdout",
     "output_type": "stream",
     "text": [
      "<class 'pandas.core.frame.DataFrame'>\n",
      "RangeIndex: 13260277 entries, 0 to 13260276\n",
      "Data columns (total 16 columns):\n",
      " #   Column             Dtype  \n",
      "---  ------             -----  \n",
      " 0   stock_identifier   object \n",
      " 1   col_2              int64  \n",
      " 2   bid_price          float64\n",
      " 3   ask_price          float64\n",
      " 4   trade_price        float64\n",
      " 5   bid_volume         int64  \n",
      " 6   ask_volume         int64  \n",
      " 7   trade_volume       int64  \n",
      " 8   update_type        int64  \n",
      " 9   col_10             int64  \n",
      " 10  date               int64  \n",
      " 11  time_seconds       float64\n",
      " 12  open_price         float64\n",
      " 13  col_14             int64  \n",
      " 14  condition_codes_1  object \n",
      " 15  condition_codes_2  object \n",
      "dtypes: float64(5), int64(8), object(3)\n",
      "memory usage: 1.6+ GB\n"
     ]
    }
   ],
   "source": [
    "scandi.info()"
   ]
  },
  {
   "cell_type": "markdown",
   "metadata": {},
   "source": [
    "**Filter the data as required**"
   ]
  },
  {
   "cell_type": "code",
   "execution_count": 10,
   "metadata": {},
   "outputs": [],
   "source": [
    "scandi_sub = scandi[(scandi['condition_codes_1'].isna()) | \n",
    "                    (scandi['condition_codes_1'] == \"XT\")]"
   ]
  },
  {
   "cell_type": "code",
   "execution_count": 11,
   "metadata": {},
   "outputs": [
    {
     "data": {
      "text/plain": [
       "13122036"
      ]
     },
     "execution_count": 11,
     "metadata": {},
     "output_type": "execute_result"
    }
   ],
   "source": [
    "len(scandi_sub)"
   ]
  },
  {
   "cell_type": "code",
   "execution_count": 12,
   "metadata": {},
   "outputs": [],
   "source": [
    "scandi_sub = scandi_sub[scandi_sub['bid_price'] <= scandi_sub['ask_price']]"
   ]
  },
  {
   "cell_type": "code",
   "execution_count": 13,
   "metadata": {},
   "outputs": [],
   "source": [
    "scandi_sub = scandi_sub.drop(['col_2', 'col_10', 'col_14'], axis = 1)"
   ]
  },
  {
   "cell_type": "markdown",
   "metadata": {},
   "source": [
    "**define the functions that will go through each stock and get the last_digit_ratio, as well as time_between_trades stats**"
   ]
  },
  {
   "cell_type": "code",
   "execution_count": 14,
   "metadata": {},
   "outputs": [],
   "source": [
    "def last_digit_ratio(stock_identifier, column):\n",
    "    #change column to a list\n",
    "    num_list = scandi_sub[scandi_sub['stock_identifier'] == stock_identifier][column].tolist()\n",
    "    #change values in list to strings\n",
    "    string_list = [repr(n) for n in num_list]\n",
    "    #take the last item in each string then convert to integer\n",
    "    last_digit_list = [int(n[-1]) for n in string_list]\n",
    "    #calcuate the ratio\n",
    "    ratios_dict = {}\n",
    "    for i in range(10):\n",
    "        ratio = last_digit_list.count(i) / len(last_digit_list) \n",
    "        ratios_dict[i] = ratio\n",
    "    return ratios_dict"
   ]
  },
  {
   "cell_type": "code",
   "execution_count": 15,
   "metadata": {},
   "outputs": [],
   "source": [
    "#dataset is named 'scandi', and columns named 'stock_identifer' and 'update_type'\n",
    "def time_difference_stats(stock_identifier):\n",
    "    from statistics import mean, median\n",
    "    \n",
    "    data_sub = scandi_sub[(scandi_sub['stock_identifier'] == stock_identifier) & \n",
    "                      (scandi_sub['update_type'] == 1)]\n",
    "    time_seconds_list = data_sub['time_seconds'].tolist()\n",
    "    \n",
    "    time_difference_list = [time_seconds_list[i+1] - \n",
    "                        time_seconds_list[i] for i in range(len(time_seconds_list)-1) \n",
    "                            if time_seconds_list[i+1] > time_seconds_list[i]]\n",
    "\n",
    "    trade_time_mean = mean(time_difference_list)\n",
    "    trade_time_median = median(time_difference_list)\n",
    "    trade_time_max = max(time_difference_list)\n",
    "    d = {'trade_time_mean': trade_time_mean, 'trade_time_median': trade_time_median,\n",
    "            'trade_time_max': trade_time_max}\n",
    "    return d"
   ]
  },
  {
   "cell_type": "markdown",
   "metadata": {},
   "source": [
    "**Create a list that has all the stock identifiers**"
   ]
  },
  {
   "cell_type": "code",
   "execution_count": 16,
   "metadata": {},
   "outputs": [],
   "source": [
    "stock_list = scandi_sub['stock_identifier'].unique()"
   ]
  },
  {
   "cell_type": "markdown",
   "metadata": {},
   "source": [
    "**create the dataframe that contains time between trades stats for all stocks**"
   ]
  },
  {
   "cell_type": "code",
   "execution_count": 17,
   "metadata": {},
   "outputs": [],
   "source": [
    "time_difference_results = []\n",
    "for x in stock_list:\n",
    "    time_difference_results.append(time_difference_stats(x))\n"
   ]
  },
  {
   "cell_type": "code",
   "execution_count": 18,
   "metadata": {},
   "outputs": [],
   "source": [
    "time_between_trades = pd.DataFrame(index = stock_list, \n",
    "                                           data = time_difference_results,\n",
    "                                          columns = ['trade_time_mean', 'trade_time_median',\n",
    "                                                    'trade_time_max'])"
   ]
  },
  {
   "cell_type": "code",
   "execution_count": 19,
   "metadata": {},
   "outputs": [
    {
     "data": {
      "text/html": [
       "<div>\n",
       "<style scoped>\n",
       "    .dataframe tbody tr th:only-of-type {\n",
       "        vertical-align: middle;\n",
       "    }\n",
       "\n",
       "    .dataframe tbody tr th {\n",
       "        vertical-align: top;\n",
       "    }\n",
       "\n",
       "    .dataframe thead th {\n",
       "        text-align: right;\n",
       "    }\n",
       "</style>\n",
       "<table border=\"1\" class=\"dataframe\">\n",
       "  <thead>\n",
       "    <tr style=\"text-align: right;\">\n",
       "      <th></th>\n",
       "      <th>trade_time_mean</th>\n",
       "      <th>trade_time_median</th>\n",
       "      <th>trade_time_max</th>\n",
       "    </tr>\n",
       "  </thead>\n",
       "  <tbody>\n",
       "    <tr>\n",
       "      <th>ABB SS Equity</th>\n",
       "      <td>33.148016</td>\n",
       "      <td>17.0</td>\n",
       "      <td>490.0</td>\n",
       "    </tr>\n",
       "    <tr>\n",
       "      <th>ALFA SS Equity</th>\n",
       "      <td>20.590654</td>\n",
       "      <td>5.0</td>\n",
       "      <td>447.0</td>\n",
       "    </tr>\n",
       "    <tr>\n",
       "      <th>ASSAB SS Equity</th>\n",
       "      <td>38.005960</td>\n",
       "      <td>15.0</td>\n",
       "      <td>537.0</td>\n",
       "    </tr>\n",
       "    <tr>\n",
       "      <th>ATCOA SS Equity</th>\n",
       "      <td>21.254386</td>\n",
       "      <td>10.0</td>\n",
       "      <td>349.0</td>\n",
       "    </tr>\n",
       "    <tr>\n",
       "      <th>ATCOB SS Equity</th>\n",
       "      <td>47.186989</td>\n",
       "      <td>24.0</td>\n",
       "      <td>611.0</td>\n",
       "    </tr>\n",
       "    <tr>\n",
       "      <th>...</th>\n",
       "      <td>...</td>\n",
       "      <td>...</td>\n",
       "      <td>...</td>\n",
       "    </tr>\n",
       "    <tr>\n",
       "      <th>STL NO Equity</th>\n",
       "      <td>17.349556</td>\n",
       "      <td>7.0</td>\n",
       "      <td>310.0</td>\n",
       "    </tr>\n",
       "    <tr>\n",
       "      <th>SUBC NO Equity</th>\n",
       "      <td>25.567135</td>\n",
       "      <td>11.0</td>\n",
       "      <td>639.0</td>\n",
       "    </tr>\n",
       "    <tr>\n",
       "      <th>TEL NO Equity</th>\n",
       "      <td>35.223965</td>\n",
       "      <td>17.0</td>\n",
       "      <td>549.0</td>\n",
       "    </tr>\n",
       "    <tr>\n",
       "      <th>TGS NO Equity</th>\n",
       "      <td>38.514244</td>\n",
       "      <td>13.0</td>\n",
       "      <td>879.0</td>\n",
       "    </tr>\n",
       "    <tr>\n",
       "      <th>YAR NO Equity</th>\n",
       "      <td>24.033265</td>\n",
       "      <td>11.0</td>\n",
       "      <td>380.0</td>\n",
       "    </tr>\n",
       "  </tbody>\n",
       "</table>\n",
       "<p>99 rows × 3 columns</p>\n",
       "</div>"
      ],
      "text/plain": [
       "                 trade_time_mean  trade_time_median  trade_time_max\n",
       "ABB SS Equity          33.148016               17.0           490.0\n",
       "ALFA SS Equity         20.590654                5.0           447.0\n",
       "ASSAB SS Equity        38.005960               15.0           537.0\n",
       "ATCOA SS Equity        21.254386               10.0           349.0\n",
       "ATCOB SS Equity        47.186989               24.0           611.0\n",
       "...                          ...                ...             ...\n",
       "STL NO Equity          17.349556                7.0           310.0\n",
       "SUBC NO Equity         25.567135               11.0           639.0\n",
       "TEL NO Equity          35.223965               17.0           549.0\n",
       "TGS NO Equity          38.514244               13.0           879.0\n",
       "YAR NO Equity          24.033265               11.0           380.0\n",
       "\n",
       "[99 rows x 3 columns]"
      ]
     },
     "execution_count": 19,
     "metadata": {},
     "output_type": "execute_result"
    }
   ],
   "source": [
    "time_between_trades"
   ]
  },
  {
   "cell_type": "markdown",
   "metadata": {},
   "source": [
    "**create the dataframe that contains the last digits ratios for trade prices of all stocks**"
   ]
  },
  {
   "cell_type": "code",
   "execution_count": 20,
   "metadata": {},
   "outputs": [],
   "source": [
    "last_digit_results = []\n",
    "for x in stock_list:\n",
    "    last_digit_results.append(last_digit_ratio(x, 'trade_price'))"
   ]
  },
  {
   "cell_type": "code",
   "execution_count": 21,
   "metadata": {},
   "outputs": [],
   "source": [
    "last_digit_ratio_allstocks = pd.DataFrame(index = stock_list, \n",
    "                                          data = last_digit_results,\n",
    "                                         columns = [0,1,2,3,4,5,6,7,8,9])"
   ]
  },
  {
   "cell_type": "code",
   "execution_count": 22,
   "metadata": {},
   "outputs": [
    {
     "data": {
      "text/html": [
       "<div>\n",
       "<style scoped>\n",
       "    .dataframe tbody tr th:only-of-type {\n",
       "        vertical-align: middle;\n",
       "    }\n",
       "\n",
       "    .dataframe tbody tr th {\n",
       "        vertical-align: top;\n",
       "    }\n",
       "\n",
       "    .dataframe thead th {\n",
       "        text-align: right;\n",
       "    }\n",
       "</style>\n",
       "<table border=\"1\" class=\"dataframe\">\n",
       "  <thead>\n",
       "    <tr style=\"text-align: right;\">\n",
       "      <th></th>\n",
       "      <th>0</th>\n",
       "      <th>1</th>\n",
       "      <th>2</th>\n",
       "      <th>3</th>\n",
       "      <th>4</th>\n",
       "      <th>5</th>\n",
       "      <th>6</th>\n",
       "      <th>7</th>\n",
       "      <th>8</th>\n",
       "      <th>9</th>\n",
       "    </tr>\n",
       "  </thead>\n",
       "  <tbody>\n",
       "    <tr>\n",
       "      <th>ABB SS Equity</th>\n",
       "      <td>0.122384</td>\n",
       "      <td>0.083067</td>\n",
       "      <td>0.076360</td>\n",
       "      <td>0.066543</td>\n",
       "      <td>0.072649</td>\n",
       "      <td>0.086368</td>\n",
       "      <td>0.094895</td>\n",
       "      <td>0.119809</td>\n",
       "      <td>0.136289</td>\n",
       "      <td>0.141635</td>\n",
       "    </tr>\n",
       "    <tr>\n",
       "      <th>ALFA SS Equity</th>\n",
       "      <td>0.133952</td>\n",
       "      <td>0.100751</td>\n",
       "      <td>0.109491</td>\n",
       "      <td>0.078723</td>\n",
       "      <td>0.085023</td>\n",
       "      <td>0.100570</td>\n",
       "      <td>0.087992</td>\n",
       "      <td>0.100814</td>\n",
       "      <td>0.105959</td>\n",
       "      <td>0.096725</td>\n",
       "    </tr>\n",
       "    <tr>\n",
       "      <th>ASSAB SS Equity</th>\n",
       "      <td>0.487347</td>\n",
       "      <td>0.000000</td>\n",
       "      <td>0.000000</td>\n",
       "      <td>0.000000</td>\n",
       "      <td>0.000000</td>\n",
       "      <td>0.512653</td>\n",
       "      <td>0.000000</td>\n",
       "      <td>0.000000</td>\n",
       "      <td>0.000000</td>\n",
       "      <td>0.000000</td>\n",
       "    </tr>\n",
       "    <tr>\n",
       "      <th>ATCOA SS Equity</th>\n",
       "      <td>0.112650</td>\n",
       "      <td>0.094883</td>\n",
       "      <td>0.094601</td>\n",
       "      <td>0.097079</td>\n",
       "      <td>0.093635</td>\n",
       "      <td>0.104812</td>\n",
       "      <td>0.099675</td>\n",
       "      <td>0.098858</td>\n",
       "      <td>0.099194</td>\n",
       "      <td>0.104613</td>\n",
       "    </tr>\n",
       "    <tr>\n",
       "      <th>ATCOB SS Equity</th>\n",
       "      <td>0.111708</td>\n",
       "      <td>0.098817</td>\n",
       "      <td>0.089008</td>\n",
       "      <td>0.107683</td>\n",
       "      <td>0.114446</td>\n",
       "      <td>0.111038</td>\n",
       "      <td>0.109922</td>\n",
       "      <td>0.089488</td>\n",
       "      <td>0.081329</td>\n",
       "      <td>0.086560</td>\n",
       "    </tr>\n",
       "    <tr>\n",
       "      <th>...</th>\n",
       "      <td>...</td>\n",
       "      <td>...</td>\n",
       "      <td>...</td>\n",
       "      <td>...</td>\n",
       "      <td>...</td>\n",
       "      <td>...</td>\n",
       "      <td>...</td>\n",
       "      <td>...</td>\n",
       "      <td>...</td>\n",
       "      <td>...</td>\n",
       "    </tr>\n",
       "    <tr>\n",
       "      <th>STL NO Equity</th>\n",
       "      <td>0.121688</td>\n",
       "      <td>0.106647</td>\n",
       "      <td>0.108597</td>\n",
       "      <td>0.091521</td>\n",
       "      <td>0.105329</td>\n",
       "      <td>0.095023</td>\n",
       "      <td>0.081767</td>\n",
       "      <td>0.078860</td>\n",
       "      <td>0.098907</td>\n",
       "      <td>0.111662</td>\n",
       "    </tr>\n",
       "    <tr>\n",
       "      <th>SUBC NO Equity</th>\n",
       "      <td>0.054593</td>\n",
       "      <td>0.061433</td>\n",
       "      <td>0.060529</td>\n",
       "      <td>0.059186</td>\n",
       "      <td>0.055094</td>\n",
       "      <td>0.526647</td>\n",
       "      <td>0.047617</td>\n",
       "      <td>0.048352</td>\n",
       "      <td>0.038395</td>\n",
       "      <td>0.048155</td>\n",
       "    </tr>\n",
       "    <tr>\n",
       "      <th>TEL NO Equity</th>\n",
       "      <td>0.116363</td>\n",
       "      <td>0.109932</td>\n",
       "      <td>0.118022</td>\n",
       "      <td>0.114238</td>\n",
       "      <td>0.089701</td>\n",
       "      <td>0.077923</td>\n",
       "      <td>0.082386</td>\n",
       "      <td>0.088445</td>\n",
       "      <td>0.103344</td>\n",
       "      <td>0.099647</td>\n",
       "    </tr>\n",
       "    <tr>\n",
       "      <th>TGS NO Equity</th>\n",
       "      <td>0.189526</td>\n",
       "      <td>0.123194</td>\n",
       "      <td>0.125398</td>\n",
       "      <td>0.098117</td>\n",
       "      <td>0.079326</td>\n",
       "      <td>0.077857</td>\n",
       "      <td>0.066944</td>\n",
       "      <td>0.088034</td>\n",
       "      <td>0.077585</td>\n",
       "      <td>0.074020</td>\n",
       "    </tr>\n",
       "    <tr>\n",
       "      <th>YAR NO Equity</th>\n",
       "      <td>0.126818</td>\n",
       "      <td>0.100235</td>\n",
       "      <td>0.080975</td>\n",
       "      <td>0.092959</td>\n",
       "      <td>0.101585</td>\n",
       "      <td>0.113066</td>\n",
       "      <td>0.097193</td>\n",
       "      <td>0.104813</td>\n",
       "      <td>0.096877</td>\n",
       "      <td>0.085479</td>\n",
       "    </tr>\n",
       "  </tbody>\n",
       "</table>\n",
       "<p>99 rows × 10 columns</p>\n",
       "</div>"
      ],
      "text/plain": [
       "                        0         1         2         3         4         5  \\\n",
       "ABB SS Equity    0.122384  0.083067  0.076360  0.066543  0.072649  0.086368   \n",
       "ALFA SS Equity   0.133952  0.100751  0.109491  0.078723  0.085023  0.100570   \n",
       "ASSAB SS Equity  0.487347  0.000000  0.000000  0.000000  0.000000  0.512653   \n",
       "ATCOA SS Equity  0.112650  0.094883  0.094601  0.097079  0.093635  0.104812   \n",
       "ATCOB SS Equity  0.111708  0.098817  0.089008  0.107683  0.114446  0.111038   \n",
       "...                   ...       ...       ...       ...       ...       ...   \n",
       "STL NO Equity    0.121688  0.106647  0.108597  0.091521  0.105329  0.095023   \n",
       "SUBC NO Equity   0.054593  0.061433  0.060529  0.059186  0.055094  0.526647   \n",
       "TEL NO Equity    0.116363  0.109932  0.118022  0.114238  0.089701  0.077923   \n",
       "TGS NO Equity    0.189526  0.123194  0.125398  0.098117  0.079326  0.077857   \n",
       "YAR NO Equity    0.126818  0.100235  0.080975  0.092959  0.101585  0.113066   \n",
       "\n",
       "                        6         7         8         9  \n",
       "ABB SS Equity    0.094895  0.119809  0.136289  0.141635  \n",
       "ALFA SS Equity   0.087992  0.100814  0.105959  0.096725  \n",
       "ASSAB SS Equity  0.000000  0.000000  0.000000  0.000000  \n",
       "ATCOA SS Equity  0.099675  0.098858  0.099194  0.104613  \n",
       "ATCOB SS Equity  0.109922  0.089488  0.081329  0.086560  \n",
       "...                   ...       ...       ...       ...  \n",
       "STL NO Equity    0.081767  0.078860  0.098907  0.111662  \n",
       "SUBC NO Equity   0.047617  0.048352  0.038395  0.048155  \n",
       "TEL NO Equity    0.082386  0.088445  0.103344  0.099647  \n",
       "TGS NO Equity    0.066944  0.088034  0.077585  0.074020  \n",
       "YAR NO Equity    0.097193  0.104813  0.096877  0.085479  \n",
       "\n",
       "[99 rows x 10 columns]"
      ]
     },
     "execution_count": 22,
     "metadata": {},
     "output_type": "execute_result"
    }
   ],
   "source": [
    "last_digit_ratio_allstocks"
   ]
  },
  {
   "cell_type": "code",
   "execution_count": 23,
   "metadata": {},
   "outputs": [],
   "source": [
    "with pd.ExcelWriter('scandi_output.xlsx') as writer:\n",
    "    time_between_trades.to_excel(writer, sheet_name = 'time_between_trades')\n",
    "    last_digit_ratio_allstocks.to_excel(writer, sheet_name = \"last_digit_ratio_allstocks\")"
   ]
  },
  {
   "cell_type": "code",
   "execution_count": null,
   "metadata": {},
   "outputs": [],
   "source": []
  }
 ],
 "metadata": {
  "kernelspec": {
   "display_name": "Python 3",
   "language": "python",
   "name": "python3"
  },
  "language_info": {
   "codemirror_mode": {
    "name": "ipython",
    "version": 3
   },
   "file_extension": ".py",
   "mimetype": "text/x-python",
   "name": "python",
   "nbconvert_exporter": "python",
   "pygments_lexer": "ipython3",
   "version": "3.8.5"
  }
 },
 "nbformat": 4,
 "nbformat_minor": 4
}
